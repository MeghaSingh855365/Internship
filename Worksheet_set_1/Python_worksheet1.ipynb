{
 "cells": [
  {
   "cell_type": "markdown",
   "id": "aa5d2219",
   "metadata": {},
   "source": [
    "# Q11:-Write a python program to find the factorial of a number"
   ]
  },
  {
   "cell_type": "code",
   "execution_count": 10,
   "id": "72b2e3fd",
   "metadata": {},
   "outputs": [
    {
     "name": "stdout",
     "output_type": "stream",
     "text": [
      " Enter a number to find factorial : 6\n",
      "The factorial of 6  = 720\n"
     ]
    }
   ],
   "source": [
    "#here I have used inside lib of python which is imported from math and got the factorial of a no.(n!=n*(n-1)*(n-2).....)\n",
    "\n",
    "import math \n",
    "\n",
    "number = int(input(\" Enter a number to find factorial : \"))\n",
    "if number < 0:    \n",
    "   print(\" Factorial does not exist for negative numbers\") \n",
    "elif number == 0:    \n",
    "   print(\"The factorial of 0 is 1\")   \n",
    "else: \n",
    "    fact = math.factorial(number)\n",
    "    print(\"The factorial of %d  = %d\" %(number, fact))\n"
   ]
  },
  {
   "cell_type": "markdown",
   "id": "f0fed3e4",
   "metadata": {},
   "source": [
    "# Q12. Write a python program to find whether a number is prime or composite."
   ]
  },
  {
   "cell_type": "code",
   "execution_count": 15,
   "id": "0e973e94",
   "metadata": {},
   "outputs": [
    {
     "name": "stdout",
     "output_type": "stream",
     "text": [
      "Enter any number: 7\n",
      "7 is a prime number\n"
     ]
    }
   ],
   "source": [
    "#if no. is greater the 1 then we can find prime no. by dividing \"a no.\".If after dividing we get reminder as 0 \n",
    "#           then its not a prime.If reminder is not 0 then its prime.And to find reminder we use \"modulus=%\"\n",
    "\n",
    "number = int(input(\"Enter a number: \")) \n",
    "if number > 1:\n",
    "    for i in range(2, number):\n",
    "        if (number % i) == 0:\n",
    "            print(number, \"is not a prime number\")\n",
    "            break\n",
    "    else:\n",
    "        print(number, \"is a prime number\")\n",
    "else:\n",
    "    print(number, \"is not a prime number\")"
   ]
  },
  {
   "cell_type": "markdown",
   "id": "e67cfa28",
   "metadata": {},
   "source": [
    "# Q13. Write a python program to check whether a given string is palindrome or not."
   ]
  },
  {
   "cell_type": "code",
   "execution_count": 19,
   "id": "1a9cd0cc",
   "metadata": {},
   "outputs": [
    {
     "name": "stdout",
     "output_type": "stream",
     "text": [
      "Enter the String :madam\n",
      "madam is palindromic\n"
     ]
    }
   ],
   "source": [
    "#Enter any string and do opposite of it using[::-1]..example:-Madam=Madam.So its a palindrome\n",
    "\n",
    "strName = input('Enter the String :')\n",
    "oppName = strName[::-1]\n",
    "if strName == oppName:\n",
    "    print(strName,'is a palindromic')\n",
    "else:\n",
    "    print(strName,'is not palindromic')"
   ]
  },
  {
   "cell_type": "markdown",
   "id": "8ed4b1d1",
   "metadata": {},
   "source": [
    "# Q14. Write a Python program to get the third side of right-angled triangle from two given sides."
   ]
  },
  {
   "cell_type": "code",
   "execution_count": 27,
   "id": "749d7128",
   "metadata": {},
   "outputs": [
    {
     "name": "stdout",
     "output_type": "stream",
     "text": [
      "Enter a first number:3\n",
      "Enter a second number:4\n",
      "the third side of 3.0 and 4.0 is 5.0\n"
     ]
    }
   ],
   "source": [
    "#here i have used formula hypo=sqrt((a**2 +b**2))\n",
    "#and i have used float bcz we can have floating value also and converted that to 2 digit only\n",
    "\n",
    "from math import sqrt\n",
    "firstNum=float(input(\"Enter a first number:\"))\n",
    "secNum=float(input(\"Enter a second number:\"))\n",
    "hypotenuse  =sqrt(firstNum**2 + secNum**2)\n",
    "thirdSide=round(hypotenuse, 2)\n",
    "print(\"the third side of\",firstNum ,\"and\",secNum,\"is\",thirdSide)"
   ]
  },
  {
   "cell_type": "markdown",
   "id": "c93f108a",
   "metadata": {},
   "source": [
    "# Q15. Write a python program to print the frequency of each of the characters present in a given string."
   ]
  },
  {
   "cell_type": "code",
   "execution_count": 34,
   "id": "0a412ac4",
   "metadata": {},
   "outputs": [
    {
     "name": "stdout",
     "output_type": "stream",
     "text": [
      "Enter the String :megha\n",
      "The frequency of each of the characters in megha is :\n",
      " {'m': 1, 'e': 1, 'g': 1, 'h': 1, 'a': 1}\n"
     ]
    }
   ],
   "source": [
    "#First we initialize string and then we count the string using object\n",
    "#     of each element in string \n",
    "\n",
    "freqChar =  input('Enter the String :')\n",
    "all_freq = {}\n",
    "for i in freqChar:\n",
    "    if i in all_freq:\n",
    "        all_freq[i] += 1\n",
    "    else:\n",
    "        all_freq[i] = 1\n",
    "print (\"The frequency of each of the characters in\", freqChar,\"is :\\n \"\n",
    "                                        +  str(all_freq))"
   ]
  },
  {
   "cell_type": "code",
   "execution_count": null,
   "id": "b301732b",
   "metadata": {},
   "outputs": [],
   "source": []
  }
 ],
 "metadata": {
  "kernelspec": {
   "display_name": "Python 3",
   "language": "python",
   "name": "python3"
  },
  "language_info": {
   "codemirror_mode": {
    "name": "ipython",
    "version": 3
   },
   "file_extension": ".py",
   "mimetype": "text/x-python",
   "name": "python",
   "nbconvert_exporter": "python",
   "pygments_lexer": "ipython3",
   "version": "3.8.8"
  }
 },
 "nbformat": 4,
 "nbformat_minor": 5
}
